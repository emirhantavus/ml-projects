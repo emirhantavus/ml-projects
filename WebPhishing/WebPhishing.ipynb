{
 "cells": [
  {
   "cell_type": "markdown",
   "metadata": {
    "id": "A8rYEuPhr8N2"
   },
   "source": [
    "**İMPORT KUTUPHANE VE METRİKLER**"
   ]
  },
  {
   "cell_type": "code",
   "execution_count": null,
   "metadata": {},
   "outputs": [],
   "source": []
  },
  {
   "cell_type": "code",
   "execution_count": 1,
   "metadata": {
    "id": "0dok-yUYsEB7"
   },
   "outputs": [],
   "source": [
    "import numpy as np\n",
    "import pandas as pd\n",
    "import matplotlib.pyplot as plt\n",
    "import seaborn as sns\n",
    "import os\n",
    "import warnings\n",
    "\n",
    "from sklearn.linear_model import LogisticRegression\n",
    "from sklearn.tree import DecisionTreeClassifier\n",
    "from sklearn.neighbors import KNeighborsClassifier\n",
    "from sklearn.ensemble import RandomForestClassifier, GradientBoostingClassifier, AdaBoostClassifier\n",
    "from sklearn.neural_network import MLPClassifier\n",
    "from sklearn.naive_bayes import GaussianNB\n",
    "from sklearn.model_selection import cross_validate\n",
    "from sklearn.model_selection import train_test_split\n",
    "from sklearn.metrics import accuracy_score, classification_report\n",
    "\n",
    "warnings.filterwarnings(\"ignore\")"
   ]
  },
  {
   "cell_type": "markdown",
   "metadata": {
    "id": "ST1dGvTSrnJ1"
   },
   "source": [
    "DRİVE **BAĞLANTISI**"
   ]
  },
  {
   "cell_type": "code",
   "execution_count": 2,
   "metadata": {
    "colab": {
     "base_uri": "https://localhost:8080/"
    },
    "id": "P8WBqlCWqixM",
    "outputId": "f39dc8a3-3185-4333-f0a4-094f84c27c8d"
   },
   "outputs": [
    {
     "ename": "ModuleNotFoundError",
     "evalue": "No module named 'google.colab'",
     "output_type": "error",
     "traceback": [
      "\u001b[1;31m---------------------------------------------------------------------------\u001b[0m",
      "\u001b[1;31mModuleNotFoundError\u001b[0m                       Traceback (most recent call last)",
      "Cell \u001b[1;32mIn[2], line 1\u001b[0m\n\u001b[1;32m----> 1\u001b[0m \u001b[38;5;28;01mfrom\u001b[39;00m \u001b[38;5;21;01mgoogle\u001b[39;00m\u001b[38;5;21;01m.\u001b[39;00m\u001b[38;5;21;01mcolab\u001b[39;00m \u001b[38;5;28;01mimport\u001b[39;00m drive\n\u001b[0;32m      3\u001b[0m \u001b[38;5;66;03m# Google Drive'ı bağlayın\u001b[39;00m\n\u001b[0;32m      4\u001b[0m drive\u001b[38;5;241m.\u001b[39mmount(\u001b[38;5;124m'\u001b[39m\u001b[38;5;124m/content/drive\u001b[39m\u001b[38;5;124m'\u001b[39m)\n",
      "\u001b[1;31mModuleNotFoundError\u001b[0m: No module named 'google.colab'"
     ]
    }
   ],
   "source": [
    "from google.colab import drive\n",
    "\n",
    "# Google Drive'ı bağlayın\n",
    "drive.mount('/content/drive')"
   ]
  },
  {
   "cell_type": "markdown",
   "metadata": {
    "id": "snoYQfJUsHg6"
   },
   "source": [
    "**OKUMA**"
   ]
  },
  {
   "cell_type": "code",
   "execution_count": null,
   "metadata": {
    "id": "hDd2e8sprrIZ"
   },
   "outputs": [],
   "source": [
    "df = pd.read_csv(\"/content/drive/MyDrive/web-page-phishing.csv\" , sep=\",\", encoding='utf-8')"
   ]
  },
  {
   "cell_type": "code",
   "execution_count": null,
   "metadata": {
    "colab": {
     "base_uri": "https://localhost:8080/",
     "height": 226
    },
    "id": "gjYi7xr7sU9z",
    "outputId": "429d0f9d-14a5-4ea9-babc-37c097a2d1bd"
   },
   "outputs": [],
   "source": [
    "df.head()"
   ]
  },
  {
   "cell_type": "code",
   "execution_count": null,
   "metadata": {
    "colab": {
     "base_uri": "https://localhost:8080/"
    },
    "id": "9Ioy7XuosbQ0",
    "outputId": "dadc329e-1e40-48ce-81f6-cfae8d4317f4"
   },
   "outputs": [],
   "source": [
    "df.info()"
   ]
  },
  {
   "cell_type": "code",
   "execution_count": null,
   "metadata": {
    "colab": {
     "base_uri": "https://localhost:8080/"
    },
    "id": "aBiicD1Ds_nx",
    "outputId": "c5993104-62ba-49be-c62b-b1a5a0544177"
   },
   "outputs": [],
   "source": [
    "df.isnull().sum()/df.shape[0]"
   ]
  },
  {
   "cell_type": "markdown",
   "metadata": {
    "id": "rek2irottY42"
   },
   "source": [
    "**VERİ DEĞER ARALIĞINI KUCULTME**"
   ]
  },
  {
   "cell_type": "code",
   "execution_count": null,
   "metadata": {
    "colab": {
     "base_uri": "https://localhost:8080/"
    },
    "id": "w0OnIzzKtmBp",
    "outputId": "578c2c35-4451-4321-d1cf-90c24a177382"
   },
   "outputs": [],
   "source": [
    "df.columns.tolist()\n"
   ]
  },
  {
   "cell_type": "code",
   "execution_count": null,
   "metadata": {
    "id": "f27_2Nz_tOrO"
   },
   "outputs": [],
   "source": [
    "st = StandardScaler()"
   ]
  },
  {
   "cell_type": "code",
   "execution_count": null,
   "metadata": {
    "id": "PAravOartdqY"
   },
   "outputs": [],
   "source": [
    "df[\"url_length\"] = st.fit_transform(df[[\"url_length\"]])\n"
   ]
  },
  {
   "cell_type": "code",
   "execution_count": null,
   "metadata": {
    "colab": {
     "base_uri": "https://localhost:8080/",
     "height": 320
    },
    "id": "Eq15wvIUugjO",
    "outputId": "2e2f8ee8-f627-4e44-c622-1b03058adb7e"
   },
   "outputs": [],
   "source": [
    "df.describe()"
   ]
  },
  {
   "cell_type": "markdown",
   "metadata": {},
   "source": [
    "Koralasyon Matrixi"
   ]
  },
  {
   "cell_type": "code",
   "execution_count": null,
   "metadata": {
    "colab": {
     "base_uri": "https://localhost:8080/",
     "height": 604
    },
    "id": "dR1xrJDLBvau",
    "outputId": "160964f6-e5d7-4fbe-9228-f486f6a862de"
   },
   "outputs": [],
   "source": [
    "plt.figure(figsize=(30,10))\n",
    "ax = sns.heatmap(df.corr(numeric_only=True), annot=True)\n",
    "plt.show()"
   ]
  },
  {
   "cell_type": "code",
   "execution_count": null,
   "metadata": {
    "id": "pFyR7v0-vD-i"
   },
   "outputs": [],
   "source": [
    "plt.style.use('ggplot')\n",
    "pd.set_option('display.max_rows', None)\n",
    "pd.set_option('display.float_format', lambda x: '%.4f' % x)"
   ]
  },
  {
   "cell_type": "code",
   "execution_count": null,
   "metadata": {
    "id": "wqcQy6-RzkgH"
   },
   "outputs": [],
   "source": [
    "X = df.drop('phishing', axis=1)\n",
    "y = df['phishing']\n",
    "\n",
    "X_train, X_test, y_train, y_test = train_test_split(X, y, test_size=0.2, random_state=42)"
   ]
  },
  {
   "cell_type": "markdown",
   "metadata": {},
   "source": [
    "Modeller"
   ]
  },
  {
   "cell_type": "code",
   "execution_count": null,
   "metadata": {
    "id": "yRe0sxvC0ASC"
   },
   "outputs": [],
   "source": [
    "model_list = [\n",
    "    LogisticRegression(),\n",
    "    DecisionTreeClassifier(),\n",
    "    KNeighborsClassifier(n_neighbors=3),\n",
    "    RandomForestClassifier(n_estimators=100),\n",
    "    GradientBoostingClassifier(n_estimators=100),\n",
    "    AdaBoostClassifier(n_estimators=100),\n",
    "    MLPClassifier(hidden_layer_sizes=(100,), max_iter=300),\n",
    "    GaussianNB()\n",
    "]"
   ]
  },
  {
   "cell_type": "code",
   "execution_count": null,
   "metadata": {
    "id": "OBSElvx_0Exg"
   },
   "outputs": [],
   "source": [
    "results = []"
   ]
  },
  {
   "cell_type": "code",
   "execution_count": null,
   "metadata": {
    "colab": {
     "base_uri": "https://localhost:8080/"
    },
    "id": "lS_1oVkd0KYy",
    "outputId": "0e787d7f-6c94-49d4-edc0-bd869211d983"
   },
   "outputs": [],
   "source": [
    "for i, model in enumerate(model_list):\n",
    "    print(f\"Training model - {str(model)}\")\n",
    "    model.fit(X_train, y_train)\n",
    "    y_pred = model.predict(X_test)\n",
    "    accuracy = accuracy_score(y_test, y_pred)\n",
    "    report = classification_report(y_test, y_pred, output_dict=True)\n",
    "\n",
    "    results.append({\n",
    "        \"Model\": model,\n",
    "        \"Accuracy\": accuracy,\n",
    "        \"Precision (0)\": report['0']['precision'],\n",
    "        \"Recall (0)\": report['0']['recall'],\n",
    "        \"F1-score (0)\": report['0']['f1-score'],\n",
    "        \"Precision (1)\": report['1']['precision'],\n",
    "        \"Recall (1)\": report['1']['recall'],\n",
    "        \"F1-score (1)\": report['1']['f1-score']\n",
    "    })"
   ]
  },
  {
   "cell_type": "code",
   "execution_count": null,
   "metadata": {
    "colab": {
     "base_uri": "https://localhost:8080/",
     "height": 666
    },
    "id": "hzoDxCtp1DFb",
    "outputId": "5823de2c-422d-420f-cbc9-9ca11c74b6cd"
   },
   "outputs": [],
   "source": [
    "print(\"End of Training\")\n",
    "sns.set(font_scale=1.2)\n",
    "plt.figure(figsize=(10, 6))\n",
    "table = sns.heatmap(pd.DataFrame(results).set_index('Model'), annot=True, cmap=\"plasma\", fmt=\".2f\", linewidths=.5, cbar=False)\n",
    "plt.title(\"Classification Report for Different Models\")\n",
    "plt.show()"
   ]
  },
  {
   "cell_type": "markdown",
   "metadata": {
    "id": "22esd7P117sv"
   },
   "source": [
    "EN İYİ MODEL f1 Scoruna Göre"
   ]
  },
  {
   "cell_type": "code",
   "execution_count": null,
   "metadata": {
    "colab": {
     "base_uri": "https://localhost:8080/"
    },
    "id": "hLY7zVfq2APZ",
    "outputId": "6838334e-c60f-4850-9b1a-e15c5ff8dfc4"
   },
   "outputs": [],
   "source": [
    "for model in results:\n",
    "    model[\"F1-score Avg\"] = (model[\"F1-score (0)\"] + model[\"F1-score (1)\"]) / 2\n",
    "\n",
    "sorted_models = sorted(results, key=lambda x: x[\"F1-score Avg\"], reverse=True)\n",
    "best_model = sorted_models[0]\n",
    "\n",
    "print(f\"Most suitable model: {str(best_model['Model'].__class__.__name__)} - F1 Score Avg: {str(best_model['F1-score Avg'])}\")"
   ]
  },
  {
   "cell_type": "code",
   "execution_count": null,
   "metadata": {
    "colab": {
     "base_uri": "https://localhost:8080/"
    },
    "id": "8F8DOP7l2Zu0",
    "outputId": "76b6d29a-6fc7-4557-d994-dff420fca7ed"
   },
   "outputs": [],
   "source": [
    "from joblib import dump, load\n",
    "\n",
    "dump(best_model['Model'], 'best_model.joblib')"
   ]
  },
  {
   "cell_type": "markdown",
   "metadata": {
    "id": "xOYASKwX2i6K"
   },
   "source": [
    "TEST CROSS_VALİD"
   ]
  },
  {
   "cell_type": "code",
   "execution_count": null,
   "metadata": {
    "colab": {
     "base_uri": "https://localhost:8080/"
    },
    "id": "1IiENfi82lnC",
    "outputId": "abf97b8c-253f-4fd5-cf01-be939ecd6e69"
   },
   "outputs": [],
   "source": [
    "CrossValidResult = []\n",
    "\n",
    "# Her model için çapraz doğrulama sonuçları (10x olarak belirledik)\n",
    "for model in model_list:\n",
    "    cv_results = cross_validate(model, X, y, cv=10,\n",
    "                                scoring={'precision': 'precision',\n",
    "                                         'recall': 'recall',\n",
    "                                         'f1': 'f1',\n",
    "                                         'accuracy': 'accuracy',\n",
    "                                         'roc_auc': 'roc_auc',\n",
    "                                         'average_precision': 'average_precision',\n",
    "                                         'neg_brier_score': 'neg_brier_score'})\n",
    "\n",
    "    model_results = {\n",
    "        'Model': type(model).__name__,\n",
    "        'Precision': cv_results['test_precision'].mean(),\n",
    "        'Recall': cv_results['test_recall'].mean(),\n",
    "        'F1': cv_results['test_f1'].mean(),\n",
    "        'Accuracy': cv_results['test_accuracy'].mean(),\n",
    "        'ROC AUC': cv_results['test_roc_auc'].mean(),\n",
    "        'Average Precision': cv_results['test_average_precision'].mean(),\n",
    "        'Neg Brier Score': cv_results['test_neg_brier_score'].mean()\n",
    "    }\n",
    "\n",
    "    CrossValidResult.append(model_results)\n",
    "\n",
    "CrossValidResult_df = pd.DataFrame(CrossValidResult)\n",
    "print(CrossValidResult_df)"
   ]
  }
 ],
 "metadata": {
  "colab": {
   "provenance": []
  },
  "kernelspec": {
   "display_name": "Python 3 (ipykernel)",
   "language": "python",
   "name": "python3"
  },
  "language_info": {
   "codemirror_mode": {
    "name": "ipython",
    "version": 3
   },
   "file_extension": ".py",
   "mimetype": "text/x-python",
   "name": "python",
   "nbconvert_exporter": "python",
   "pygments_lexer": "ipython3",
   "version": "3.11.2"
  }
 },
 "nbformat": 4,
 "nbformat_minor": 4
}
